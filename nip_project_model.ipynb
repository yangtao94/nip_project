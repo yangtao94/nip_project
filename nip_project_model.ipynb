{
 "cells": [
  {
   "cell_type": "code",
   "execution_count": 1,
   "metadata": {},
   "outputs": [
    {
     "name": "stderr",
     "output_type": "stream",
     "text": [
      "C:\\Users\\yangt\\Anaconda3\\Ana\\lib\\site-packages\\h5py\\__init__.py:34: FutureWarning: Conversion of the second argument of issubdtype from `float` to `np.floating` is deprecated. In future, it will be treated as `np.float64 == np.dtype(float).type`.\n",
      "  from ._conv import register_converters as _register_converters\n"
     ]
    }
   ],
   "source": [
    "import pandas as pd\n",
    "import numpy as np\n",
    "import matplotlib.pyplot as plt\n",
    "import matplotlib.image as mpimg\n",
    "import requests\n",
    "import os\n",
    "import random\n",
    "from scipy.misc import imsave, imresize\n",
    "import warnings\n",
    "import tensorflow as tf\n",
    "from tensorflow import keras\n",
    "import random\n",
    "\n"
   ]
  },
  {
   "cell_type": "code",
   "execution_count": 2,
   "metadata": {
    "collapsed": true
   },
   "outputs": [],
   "source": [
    "#get training and test data\n",
    "df_training = pd.read_csv('training_set.csv')\n",
    "df_test = pd.read_csv('test_set.csv')"
   ]
  },
  {
   "cell_type": "code",
   "execution_count": 3,
   "metadata": {},
   "outputs": [
    {
     "name": "stdout",
     "output_type": "stream",
     "text": [
      "12076\n",
      "3020\n"
     ]
    }
   ],
   "source": [
    "#read from csv and get aggression rating\n",
    "def readToDict(data):\n",
    "    useful_data = {}\n",
    "    for player in data.itertuples(index = True, name='Pandas'):\n",
    "    #print()\n",
    "        details = []\n",
    "        p_id = getattr(player,\"ID\")\n",
    "        name = getattr(player,\"Name\")\n",
    "        image_id = str(p_id) +'.jpg'\n",
    "    \n",
    "        aggression = getattr(player,\"Aggression\")\n",
    "        #rating = getattr(player,\"Overall\")\n",
    "        details.append(name)\n",
    "        details.append(aggression)\n",
    "        details.append(image_id)\n",
    "        \n",
    "        #details.append(rating)\n",
    "        useful_data[p_id] = details\n",
    "    return useful_data\n",
    "\n",
    "training_dict = readToDict(df_training)\n",
    "test_dict = readToDict(df_test)\n",
    "print(len(training_dict))\n",
    "print(len(test_dict))"
   ]
  },
  {
   "cell_type": "code",
   "execution_count": 4,
   "metadata": {},
   "outputs": [
    {
     "data": {
      "text/plain": [
       "array([1, 0])"
      ]
     },
     "execution_count": 4,
     "metadata": {},
     "output_type": "execute_result"
    }
   ],
   "source": [
    "def one_hot_encoding(aggression):\n",
    "    rating = int(aggression)\n",
    "    \n",
    "    if rating <= 59:\n",
    "        one_hot = np.array([1,0])\n",
    "    else: one_hot = np.array([0,1])\n",
    "    return one_hot\n",
    "one_hot_encoding(59)"
   ]
  },
  {
   "cell_type": "code",
   "execution_count": 5,
   "metadata": {
    "collapsed": true
   },
   "outputs": [],
   "source": [
    "def get_training_data(training_dict):\n",
    "    train_images = []\n",
    "    for key in training_dict:\n",
    "        #print(key)\n",
    "        n_path = os.path.join('faces',training_dict[key][-1])\n",
    "        img = mpimg.imread(n_path)\n",
    "        with warnings.catch_warnings():\n",
    "            warnings.simplefilter(\"ignore\")\n",
    "            img = imresize(img, (48, 48))\n",
    "        \n",
    "        #print(img.shape)\n",
    "        train_images.append([np.array(img),one_hot_encoding(training_dict[key][1])])\n",
    "        \n",
    "    return train_images\n",
    "\n",
    "training_data = get_training_data(training_dict)\n",
    "test_data = get_training_data(test_dict)\n",
    "\n",
    "\n",
    "        "
   ]
  },
  {
   "cell_type": "code",
   "execution_count": 6,
   "metadata": {},
   "outputs": [
    {
     "name": "stdout",
     "output_type": "stream",
     "text": [
      "(12076, 48, 48, 4)\n",
      "(12076, 2)\n"
     ]
    }
   ],
   "source": [
    "#split into training and label\n",
    "\n",
    "X_train = np.array([i[0] for i in training_data])\n",
    "Y_train = np.array([i[1] for i in training_data])\n",
    "print(X_train.shape)\n",
    "print(Y_train.shape)\n",
    "X_test = np.array([i[0] for i in test_data])\n",
    "Y_test = np.array([i[1] for i in test_data])"
   ]
  },
  {
   "cell_type": "code",
   "execution_count": 7,
   "metadata": {
    "collapsed": true
   },
   "outputs": [],
   "source": [
    "def buildConvNet(x,y,eps = 5, dropout = True, dropRate = 0.2):\n",
    "    #TODO: Implement a CNN here. dropout option is required.\n",
    "    model = tf.keras.Sequential()\n",
    "    lossType = tf.keras.losses.categorical_crossentropy\n",
    "    opt = tf.keras.optimizers.Adam(lr = 1e-3)\n",
    "    i_shape = (48,48,4)\n",
    "    #add CNN layers\n",
    "    model.add(tf.keras.layers.Conv2D(32,kernel_size = 5,padding = \"same\",activation = tf.nn.relu, input_shape = i_shape))\n",
    "    model.add(tf.keras.layers.Conv2D(32,kernel_size = 5,padding = \"same\", activation = tf.nn.relu))\n",
    "    model.add(tf.keras.layers.MaxPool2D(pool_size = (2,2)))\n",
    "    \n",
    "    \n",
    "    \n",
    "    model.add(tf.keras.layers.Conv2D(64,kernel_size = 5,padding = \"same\",activation = tf.nn.relu))\n",
    "    model.add(tf.keras.layers.Conv2D(64,kernel_size = 5,padding = \"same\",activation = tf.nn.relu))\n",
    "    model.add(tf.keras.layers.MaxPool2D(pool_size = (2,2)))\n",
    "    \n",
    "    \n",
    "    \n",
    "    model.add(tf.keras.layers.Conv2D(128,kernel_size = 5,padding = \"same\",activation = tf.nn.relu))\n",
    "    model.add(tf.keras.layers.Conv2D(128,kernel_size = 5,padding = \"same\",activation = tf.nn.relu))\n",
    "    model.add(tf.keras.layers.MaxPool2D(pool_size = (2,2)))\n",
    "    \n",
    "    \n",
    "    \n",
    "    \n",
    "    model.add(tf.keras.layers.Dropout(dropRate))\n",
    "    model.add(tf.keras.layers.Flatten())\n",
    "    \n",
    "    model.add(tf.keras.layers.Dense(512,activation = tf.nn.relu))\n",
    "    model.add(tf.keras.layers.Dropout(0.5))\n",
    "    model.add(tf.keras.layers.Dense(2,activation = tf.nn.softmax))\n",
    "    model.compile(optimizer = opt, loss = lossType)\n",
    "    model.fit(x,y,batch_size = 128, epochs = eps)\n",
    "    model.summary()\n",
    "    \n",
    "    #model_json = model.to_json()\n",
    "    return model\n",
    "\n",
    "def train_network(xTrain,yTrain):\n",
    "    \n",
    "    return buildConvNet(xTrain, yTrain)"
   ]
  },
  {
   "cell_type": "code",
   "execution_count": 8,
   "metadata": {
    "collapsed": true
   },
   "outputs": [],
   "source": [
    "def runModel(model,y_param):\n",
    "    preds = model.predict(y_param)\n",
    "    for i in range(preds.shape[0]):\n",
    "        oneHot = [0] * 2\n",
    "        oneHot[np.argmax(preds[i])] = 1\n",
    "        preds[i] = oneHot\n",
    "    return preds"
   ]
  },
  {
   "cell_type": "code",
   "execution_count": 9,
   "metadata": {
    "collapsed": true
   },
   "outputs": [],
   "source": [
    "def evaluation(preds,y_label):\n",
    "    acc = 0\n",
    "    for i in range(preds.shape[0]):\n",
    "        if np.array_equal(preds[i],y_label[i]): acc = acc+1\n",
    "    accuracy = acc / preds.shape[0]\n",
    "    #print(\"Classifier algorithm: %s\" % ALGORITHM)\n",
    "    print(\"Classifier accuracy: %f%%\" % (accuracy * 100))\n",
    "    print()\n",
    "    return accuracy\n",
    "\n"
   ]
  },
  {
   "cell_type": "code",
   "execution_count": null,
   "metadata": {
    "collapsed": true
   },
   "outputs": [],
   "source": []
  },
  {
   "cell_type": "code",
   "execution_count": 10,
   "metadata": {},
   "outputs": [
    {
     "name": "stdout",
     "output_type": "stream",
     "text": [
      "Epoch 1/5\n",
      "12076/12076 [==============================] - 416s 34ms/step - loss: 8.7310\n",
      "Epoch 2/5\n",
      "12076/12076 [==============================] - 405s 34ms/step - loss: 8.7624\n",
      "Epoch 3/5\n",
      "12076/12076 [==============================] - 405s 34ms/step - loss: 8.7624\n",
      "Epoch 4/5\n",
      "12076/12076 [==============================] - 400s 33ms/step - loss: 8.7624\n",
      "Epoch 5/5\n",
      "12076/12076 [==============================] - 403s 33ms/step - loss: 8.7624\n",
      "_________________________________________________________________\n",
      "Layer (type)                 Output Shape              Param #   \n",
      "=================================================================\n",
      "conv2d (Conv2D)              (None, 48, 48, 32)        3232      \n",
      "_________________________________________________________________\n",
      "conv2d_1 (Conv2D)            (None, 48, 48, 32)        25632     \n",
      "_________________________________________________________________\n",
      "max_pooling2d (MaxPooling2D) (None, 24, 24, 32)        0         \n",
      "_________________________________________________________________\n",
      "conv2d_2 (Conv2D)            (None, 24, 24, 64)        51264     \n",
      "_________________________________________________________________\n",
      "conv2d_3 (Conv2D)            (None, 24, 24, 64)        102464    \n",
      "_________________________________________________________________\n",
      "max_pooling2d_1 (MaxPooling2 (None, 12, 12, 64)        0         \n",
      "_________________________________________________________________\n",
      "conv2d_4 (Conv2D)            (None, 12, 12, 128)       204928    \n",
      "_________________________________________________________________\n",
      "conv2d_5 (Conv2D)            (None, 12, 12, 128)       409728    \n",
      "_________________________________________________________________\n",
      "max_pooling2d_2 (MaxPooling2 (None, 6, 6, 128)         0         \n",
      "_________________________________________________________________\n",
      "dropout (Dropout)            (None, 6, 6, 128)         0         \n",
      "_________________________________________________________________\n",
      "flatten (Flatten)            (None, 4608)              0         \n",
      "_________________________________________________________________\n",
      "dense (Dense)                (None, 512)               2359808   \n",
      "_________________________________________________________________\n",
      "dropout_1 (Dropout)          (None, 512)               0         \n",
      "_________________________________________________________________\n",
      "dense_1 (Dense)              (None, 2)                 1026      \n",
      "=================================================================\n",
      "Total params: 3,158,082\n",
      "Trainable params: 3,158,082\n",
      "Non-trainable params: 0\n",
      "_________________________________________________________________\n"
     ]
    }
   ],
   "source": [
    "model = train_network(X_train,Y_train)\n",
    "preds = runModel(model,X_test)\n"
   ]
  },
  {
   "cell_type": "code",
   "execution_count": 11,
   "metadata": {},
   "outputs": [
    {
     "name": "stdout",
     "output_type": "stream",
     "text": [
      "Classifier accuracy: 65.562914%\n",
      "\n"
     ]
    }
   ],
   "source": [
    "accuracy = evaluation(preds,Y_test)"
   ]
  },
  {
   "cell_type": "code",
   "execution_count": 96,
   "metadata": {},
   "outputs": [
    {
     "data": {
      "text/plain": [
       "array([[0., 1.],\n",
       "       [0., 1.],\n",
       "       [0., 1.],\n",
       "       ...,\n",
       "       [0., 1.],\n",
       "       [0., 1.],\n",
       "       [0., 1.]], dtype=float32)"
      ]
     },
     "execution_count": 96,
     "metadata": {},
     "output_type": "execute_result"
    }
   ],
   "source": []
  },
  {
   "cell_type": "code",
   "execution_count": null,
   "metadata": {
    "collapsed": true
   },
   "outputs": [],
   "source": []
  }
 ],
 "metadata": {
  "kernelspec": {
   "display_name": "Python 3",
   "language": "python",
   "name": "python3"
  },
  "language_info": {
   "codemirror_mode": {
    "name": "ipython",
    "version": 3
   },
   "file_extension": ".py",
   "mimetype": "text/x-python",
   "name": "python",
   "nbconvert_exporter": "python",
   "pygments_lexer": "ipython3",
   "version": "3.6.1"
  }
 },
 "nbformat": 4,
 "nbformat_minor": 2
}
