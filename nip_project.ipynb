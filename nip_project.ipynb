{
 "cells": [
  {
   "cell_type": "code",
   "execution_count": 1,
   "metadata": {},
   "outputs": [
    {
     "data": {
      "text/html": [
       "<div>\n",
       "<style>\n",
       "    .dataframe thead tr:only-child th {\n",
       "        text-align: right;\n",
       "    }\n",
       "\n",
       "    .dataframe thead th {\n",
       "        text-align: left;\n",
       "    }\n",
       "\n",
       "    .dataframe tbody tr th {\n",
       "        vertical-align: top;\n",
       "    }\n",
       "</style>\n",
       "<table border=\"1\" class=\"dataframe\">\n",
       "  <thead>\n",
       "    <tr style=\"text-align: right;\">\n",
       "      <th></th>\n",
       "      <th>Unnamed: 0</th>\n",
       "      <th>ID</th>\n",
       "      <th>Name</th>\n",
       "      <th>Age</th>\n",
       "      <th>Photo</th>\n",
       "      <th>Nationality</th>\n",
       "      <th>Flag</th>\n",
       "      <th>Overall</th>\n",
       "      <th>Potential</th>\n",
       "      <th>Club</th>\n",
       "      <th>...</th>\n",
       "      <th>Skill Moves</th>\n",
       "      <th>SlidingTackle</th>\n",
       "      <th>SprintSpeed</th>\n",
       "      <th>Stamina</th>\n",
       "      <th>StandingTackle</th>\n",
       "      <th>Strength</th>\n",
       "      <th>Vision</th>\n",
       "      <th>Volleys</th>\n",
       "      <th>Weak Foot</th>\n",
       "      <th>Work Rate</th>\n",
       "    </tr>\n",
       "  </thead>\n",
       "  <tbody>\n",
       "    <tr>\n",
       "      <th>0</th>\n",
       "      <td>0</td>\n",
       "      <td>158023</td>\n",
       "      <td>L. Messi</td>\n",
       "      <td>31</td>\n",
       "      <td>https://cdn.sofifa.org/players/4/19/158023.png</td>\n",
       "      <td>Argentina</td>\n",
       "      <td>https://cdn.sofifa.org/flags/52.png</td>\n",
       "      <td>94</td>\n",
       "      <td>94</td>\n",
       "      <td>FC Barcelona</td>\n",
       "      <td>...</td>\n",
       "      <td>4</td>\n",
       "      <td>26</td>\n",
       "      <td>86</td>\n",
       "      <td>72</td>\n",
       "      <td>28</td>\n",
       "      <td>59</td>\n",
       "      <td>94</td>\n",
       "      <td>86</td>\n",
       "      <td>4</td>\n",
       "      <td>Medium/ Medium</td>\n",
       "    </tr>\n",
       "    <tr>\n",
       "      <th>1</th>\n",
       "      <td>1</td>\n",
       "      <td>20801</td>\n",
       "      <td>Cristiano Ronaldo</td>\n",
       "      <td>33</td>\n",
       "      <td>https://cdn.sofifa.org/players/4/19/20801.png</td>\n",
       "      <td>Portugal</td>\n",
       "      <td>https://cdn.sofifa.org/flags/38.png</td>\n",
       "      <td>94</td>\n",
       "      <td>94</td>\n",
       "      <td>Juventus</td>\n",
       "      <td>...</td>\n",
       "      <td>5</td>\n",
       "      <td>23</td>\n",
       "      <td>91</td>\n",
       "      <td>88</td>\n",
       "      <td>31</td>\n",
       "      <td>79</td>\n",
       "      <td>82</td>\n",
       "      <td>87</td>\n",
       "      <td>4</td>\n",
       "      <td>High/ Low</td>\n",
       "    </tr>\n",
       "    <tr>\n",
       "      <th>2</th>\n",
       "      <td>2</td>\n",
       "      <td>190871</td>\n",
       "      <td>Neymar Jr</td>\n",
       "      <td>26</td>\n",
       "      <td>https://cdn.sofifa.org/players/4/19/190871.png</td>\n",
       "      <td>Brazil</td>\n",
       "      <td>https://cdn.sofifa.org/flags/54.png</td>\n",
       "      <td>92</td>\n",
       "      <td>93</td>\n",
       "      <td>Paris Saint-Germain</td>\n",
       "      <td>...</td>\n",
       "      <td>5</td>\n",
       "      <td>33</td>\n",
       "      <td>90</td>\n",
       "      <td>81</td>\n",
       "      <td>24</td>\n",
       "      <td>49</td>\n",
       "      <td>87</td>\n",
       "      <td>84</td>\n",
       "      <td>5</td>\n",
       "      <td>High/ Medium</td>\n",
       "    </tr>\n",
       "    <tr>\n",
       "      <th>3</th>\n",
       "      <td>3</td>\n",
       "      <td>193080</td>\n",
       "      <td>De Gea</td>\n",
       "      <td>27</td>\n",
       "      <td>https://cdn.sofifa.org/players/4/19/193080.png</td>\n",
       "      <td>Spain</td>\n",
       "      <td>https://cdn.sofifa.org/flags/45.png</td>\n",
       "      <td>91</td>\n",
       "      <td>93</td>\n",
       "      <td>Manchester United</td>\n",
       "      <td>...</td>\n",
       "      <td>1</td>\n",
       "      <td>13</td>\n",
       "      <td>58</td>\n",
       "      <td>43</td>\n",
       "      <td>21</td>\n",
       "      <td>64</td>\n",
       "      <td>68</td>\n",
       "      <td>13</td>\n",
       "      <td>3</td>\n",
       "      <td>Medium/ Medium</td>\n",
       "    </tr>\n",
       "    <tr>\n",
       "      <th>4</th>\n",
       "      <td>4</td>\n",
       "      <td>192985</td>\n",
       "      <td>K. De Bruyne</td>\n",
       "      <td>27</td>\n",
       "      <td>https://cdn.sofifa.org/players/4/19/192985.png</td>\n",
       "      <td>Belgium</td>\n",
       "      <td>https://cdn.sofifa.org/flags/7.png</td>\n",
       "      <td>91</td>\n",
       "      <td>92</td>\n",
       "      <td>Manchester City</td>\n",
       "      <td>...</td>\n",
       "      <td>4</td>\n",
       "      <td>51</td>\n",
       "      <td>76</td>\n",
       "      <td>90</td>\n",
       "      <td>58</td>\n",
       "      <td>75</td>\n",
       "      <td>94</td>\n",
       "      <td>82</td>\n",
       "      <td>5</td>\n",
       "      <td>High/ High</td>\n",
       "    </tr>\n",
       "  </tbody>\n",
       "</table>\n",
       "<p>5 rows × 87 columns</p>\n",
       "</div>"
      ],
      "text/plain": [
       "   Unnamed: 0      ID               Name  Age  \\\n",
       "0           0  158023           L. Messi   31   \n",
       "1           1   20801  Cristiano Ronaldo   33   \n",
       "2           2  190871          Neymar Jr   26   \n",
       "3           3  193080             De Gea   27   \n",
       "4           4  192985       K. De Bruyne   27   \n",
       "\n",
       "                                            Photo Nationality  \\\n",
       "0  https://cdn.sofifa.org/players/4/19/158023.png   Argentina   \n",
       "1   https://cdn.sofifa.org/players/4/19/20801.png    Portugal   \n",
       "2  https://cdn.sofifa.org/players/4/19/190871.png      Brazil   \n",
       "3  https://cdn.sofifa.org/players/4/19/193080.png       Spain   \n",
       "4  https://cdn.sofifa.org/players/4/19/192985.png     Belgium   \n",
       "\n",
       "                                  Flag  Overall  Potential  \\\n",
       "0  https://cdn.sofifa.org/flags/52.png       94         94   \n",
       "1  https://cdn.sofifa.org/flags/38.png       94         94   \n",
       "2  https://cdn.sofifa.org/flags/54.png       92         93   \n",
       "3  https://cdn.sofifa.org/flags/45.png       91         93   \n",
       "4   https://cdn.sofifa.org/flags/7.png       91         92   \n",
       "\n",
       "                  Club       ...       Skill Moves SlidingTackle SprintSpeed  \\\n",
       "0         FC Barcelona       ...                 4            26          86   \n",
       "1             Juventus       ...                 5            23          91   \n",
       "2  Paris Saint-Germain       ...                 5            33          90   \n",
       "3    Manchester United       ...                 1            13          58   \n",
       "4      Manchester City       ...                 4            51          76   \n",
       "\n",
       "   Stamina  StandingTackle  Strength  Vision  Volleys  Weak Foot  \\\n",
       "0       72              28        59      94       86          4   \n",
       "1       88              31        79      82       87          4   \n",
       "2       81              24        49      87       84          5   \n",
       "3       43              21        64      68       13          3   \n",
       "4       90              58        75      94       82          5   \n",
       "\n",
       "        Work Rate  \n",
       "0  Medium/ Medium  \n",
       "1       High/ Low  \n",
       "2    High/ Medium  \n",
       "3  Medium/ Medium  \n",
       "4      High/ High  \n",
       "\n",
       "[5 rows x 87 columns]"
      ]
     },
     "execution_count": 1,
     "metadata": {},
     "output_type": "execute_result"
    }
   ],
   "source": [
    "import pandas as pd\n",
    "import numpy as np\n",
    "import matplotlib.pyplot as plt\n",
    "import matplotlib.image as mpimg\n",
    "import requests\n",
    "import os\n",
    "import random\n",
    "from scipy.misc import imsave, imresize\n",
    "import warnings\n",
    "\n",
    "df = pd.read_csv('data.csv')\n",
    "df.head()"
   ]
  },
  {
   "cell_type": "code",
   "execution_count": 6,
   "metadata": {},
   "outputs": [
    {
     "name": "stdout",
     "output_type": "stream",
     "text": [
      "17790\n"
     ]
    }
   ],
   "source": [
    "#Read from csv file, get aggression rating\n",
    "\n",
    "df_copy = df.copy()\n",
    "useful_data = {}\n",
    "for player in df_copy.itertuples(index = True, name='Pandas'):\n",
    "    #print()\n",
    "    details = []\n",
    "    p_id = getattr(player,\"ID\")\n",
    "    name = getattr(player,\"Name\")\n",
    "    url = list(getattr(player,\"Photo\"))\n",
    "    url[31] = '10'\n",
    "    photo_url = \"\".join(url)\n",
    "    aggression = getattr(player,\"Aggression\")\n",
    "    rating = getattr(player,\"Overall\")\n",
    "    details.append(name)\n",
    "    details.append(photo_url)\n",
    "    details.append(aggression)\n",
    "    details.append(rating)\n",
    "    useful_data[p_id] = details\n",
    "    \n",
    "print(len(useful_data))\n",
    "\n"
   ]
  },
  {
   "cell_type": "code",
   "execution_count": 15,
   "metadata": {
    "collapsed": true
   },
   "outputs": [],
   "source": [
    "def get_images(url,name):\n",
    "    res = requests.get(url)\n",
    "    if res.ok:\n",
    "        img_data = res.content\n",
    "        save_name = name + '.jpg'\n",
    "        #remove comments to download the pictures\n",
    "        with open(os.path.join('faces',save_name),'wb') as handler:\n",
    "            handler.write(img_data)\n",
    "        #print(\"success\")\n",
    "        return save_name \n",
    "    else:\n",
    "        #print(\"invalid?\")\n",
    "        return \"invalid\"\n",
    "     \n",
    "\n"
   ]
  },
  {
   "cell_type": "code",
   "execution_count": 8,
   "metadata": {
    "collapsed": true
   },
   "outputs": [],
   "source": [
    "def preprocessing(photo_dict):\n",
    "    training_split = {}\n",
    "    test_split = {}\n",
    "    test_size = 0.2 * len(photo_dict)\n",
    "    for key in photo_dict:\n",
    "        if len(test_split) < test_size:\n",
    "            k = random.randint(0,1)\n",
    "            if k == 1:\n",
    "                test_split[key] = photo_dict[key]\n",
    "            else: training_split[key] = photo_dict[key]\n",
    "        else: training_split[key] = photo_dict[key]\n",
    "    print(len(training_split))\n",
    "    print(len(test_split))\n",
    "    return training_split,test_split"
   ]
  },
  {
   "cell_type": "code",
   "execution_count": 9,
   "metadata": {},
   "outputs": [
    {
     "name": "stdout",
     "output_type": "stream",
     "text": [
      "[0 0 0 1]\n"
     ]
    }
   ],
   "source": []
  },
  {
   "cell_type": "code",
   "execution_count": 10,
   "metadata": {},
   "outputs": [],
   "source": [
    "\n",
    "\n",
    "#training_data = get_training_data(training_s)\n",
    "#print(shape(training_data))"
   ]
  },
  {
   "cell_type": "code",
   "execution_count": 16,
   "metadata": {},
   "outputs": [
    {
     "name": "stdout",
     "output_type": "stream",
     "text": [
      "1000\n",
      "2000\n",
      "3000\n",
      "4000\n",
      "5000\n",
      "6000\n",
      "7000\n",
      "8000\n",
      "9000\n",
      "10000\n",
      "11000\n",
      "12000\n",
      "13000\n",
      "14000\n",
      "15000\n",
      "done\n"
     ]
    }
   ],
   "source": [
    "counter = 0\n",
    "for key in useful_data:\n",
    "    content = useful_data[key]\n",
    "    \n",
    "    name = str(key)\n",
    "    #print(\"downloading\",name,\"'s picture\")\n",
    "    url = str(content[1])\n",
    "    image_path = get_images(url,name)\n",
    "    content.append(image_path)\n",
    "    counter += 1\n",
    "    if counter % 1000 == 0:\n",
    "        print(counter)\n",
    "print(\"done\")"
   ]
  },
  {
   "cell_type": "code",
   "execution_count": 17,
   "metadata": {},
   "outputs": [
    {
     "name": "stdout",
     "output_type": "stream",
     "text": [
      "15096\n",
      "15096\n"
     ]
    }
   ],
   "source": [
    "print(len(useful_data))\n",
    "#delete entries without photos\n",
    "def del_invalid(photo_dict):\n",
    "    delete_list = [key for key in photo_dict if photo_dict[key][-1] is \"invalid\"]\n",
    "    for key in delete_list:\n",
    "        del photo_dict[key]\n",
    "    return photo_dict\n",
    "useful_data = del_invalid(useful_data)\n",
    "print(len(useful_data))"
   ]
  },
  {
   "cell_type": "code",
   "execution_count": 18,
   "metadata": {},
   "outputs": [
    {
     "name": "stdout",
     "output_type": "stream",
     "text": [
      "12076\n",
      "3020\n"
     ]
    }
   ],
   "source": [
    "training_s,test_s = preprocessing(useful_data)"
   ]
  },
  {
   "cell_type": "code",
   "execution_count": 26,
   "metadata": {},
   "outputs": [
    {
     "name": "stdout",
     "output_type": "stream",
     "text": [
      "12076\n",
      "17790\n",
      "3020\n",
      "done\n"
     ]
    }
   ],
   "source": [
    "#create csv files for both training and test sets\n",
    "test_copy = df.copy()\n",
    "training_csv = [p_id for p_id in training_s]\n",
    "test_csv = [p_id for p_id in test_s]\n",
    "\n",
    "for index,row in df_copy.iterrows():\n",
    "    if row['ID'] not in training_csv:\n",
    "        df_copy.drop(index,inplace=True)\n",
    "print(len(df_copy))\n",
    "print(len(test_copy))\n",
    "for index2,row2 in test_copy.iterrows():\n",
    "    if row2['ID'] not in test_csv:\n",
    "        test_copy.drop(index2,inplace=True)\n",
    "df_copy.to_csv('training_set.csv', encoding='utf-8',index= False)\n",
    "test_copy.to_csv('test_set.csv', encoding='utf-8',index= False)\n",
    "print(len(test_copy))\n",
    "print(\"done\")"
   ]
  },
  {
   "cell_type": "code",
   "execution_count": 23,
   "metadata": {},
   "outputs": [
    {
     "name": "stdout",
     "output_type": "stream",
     "text": [
      "12076\n"
     ]
    }
   ],
   "source": []
  },
  {
   "cell_type": "code",
   "execution_count": null,
   "metadata": {
    "collapsed": true
   },
   "outputs": [],
   "source": []
  }
 ],
 "metadata": {
  "kernelspec": {
   "display_name": "Python 3",
   "language": "python",
   "name": "python3"
  },
  "language_info": {
   "codemirror_mode": {
    "name": "ipython",
    "version": 3
   },
   "file_extension": ".py",
   "mimetype": "text/x-python",
   "name": "python",
   "nbconvert_exporter": "python",
   "pygments_lexer": "ipython3",
   "version": "3.6.1"
  }
 },
 "nbformat": 4,
 "nbformat_minor": 2
}
